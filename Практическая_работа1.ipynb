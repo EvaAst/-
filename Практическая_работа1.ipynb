{
  "nbformat": 4,
  "nbformat_minor": 0,
  "metadata": {
    "colab": {
      "provenance": [],
      "authorship_tag": "ABX9TyMu6nJ4JBE7NXeudDP3/WAu",
      "include_colab_link": true
    },
    "kernelspec": {
      "name": "python3",
      "display_name": "Python 3"
    },
    "language_info": {
      "name": "python"
    }
  },
  "cells": [
    {
      "cell_type": "markdown",
      "metadata": {
        "id": "view-in-github",
        "colab_type": "text"
      },
      "source": [
        "<a href=\"https://colab.research.google.com/github/EvaAst/-/blob/main/%D0%9F%D1%80%D0%B0%D0%BA%D1%82%D0%B8%D1%87%D0%B5%D1%81%D0%BA%D0%B0%D1%8F_%D1%80%D0%B0%D0%B1%D0%BE%D1%82%D0%B01.ipynb\" target=\"_parent\"><img src=\"https://colab.research.google.com/assets/colab-badge.svg\" alt=\"Open In Colab\"/></a>"
      ]
    },
    {
      "cell_type": "code",
      "execution_count": 2,
      "metadata": {
        "id": "ejkoyUJmQqK-",
        "colab": {
          "base_uri": "https://localhost:8080/"
        },
        "outputId": "08ef68b0-754b-41ae-d733-4f7256f0217e"
      },
      "outputs": [
        {
          "output_type": "stream",
          "name": "stdout",
          "text": [
            "Петя\n",
            " и \n",
            "Кот\n"
          ]
        }
      ],
      "source": [
        "client = \"Петя\"\n",
        "print(client)\n",
        "print(\" и \")\n",
        "pet = \"Кот\"\n",
        "print(pet)"
      ]
    },
    {
      "cell_type": "code",
      "source": [
        "r = 'Red'\n",
        "g = 'Green'\n",
        "b = 'Blue'\n",
        "\n",
        "print(r, b, g, r+g+b, b, g+b)"
      ],
      "metadata": {
        "colab": {
          "base_uri": "https://localhost:8080/"
        },
        "id": "bycMv6KtAdKh",
        "outputId": "ed3b6ddb-10c0-4370-fa4c-4f8153dbbf14"
      },
      "execution_count": 4,
      "outputs": [
        {
          "output_type": "stream",
          "name": "stdout",
          "text": [
            "Red Blue Green RedGreenBlue Blue GreenBlue\n"
          ]
        }
      ]
    },
    {
      "cell_type": "code",
      "source": [
        "First_Animal = \"Заяц\"\n",
        "Second_Animal = \"Черепаха\"\n",
        "a = input()\n",
        "b = input()\n",
        "print(First_Animal, a, \",\", Second_Animal, b)"
      ],
      "metadata": {
        "colab": {
          "base_uri": "https://localhost:8080/"
        },
        "id": "wiyXhZ-7Bklf",
        "outputId": "0e1339da-a646-441b-e4b7-ce214e272172"
      },
      "execution_count": 5,
      "outputs": [
        {
          "output_type": "stream",
          "name": "stdout",
          "text": [
            "спит\n",
            "идет\n",
            "Заяц спит , Черепаха идет\n"
          ]
        }
      ]
    },
    {
      "cell_type": "code",
      "source": [
        "first_name = input('Введите имя пользователя: ')\n",
        "greeting = 'Привет, '\n",
        "print(greeting, first_name)\n",
        "intro = \"К сожалению, у Вас нет доступа к системе.\"\n",
        "info = \"Пожалуйста, обратитесь к системному администратору.\"\n",
        "print(intro)\n",
        "print(info)"
      ],
      "metadata": {
        "colab": {
          "base_uri": "https://localhost:8080/"
        },
        "id": "T4JpWRLRDLxY",
        "outputId": "4a29cb58-716f-43ea-93ea-d6106e06de23"
      },
      "execution_count": 10,
      "outputs": [
        {
          "output_type": "stream",
          "name": "stdout",
          "text": [
            "Введите имя пользователя: Петя\n",
            "Привет,  Петя\n",
            "К сожалению, у Вас нет доступа к системе.\n",
            "Пожалуйста, обратитесь к системному администратору.\n"
          ]
        }
      ]
    },
    {
      "cell_type": "code",
      "source": [
        "greeting = 'Приветствуем Вас!'\n",
        "print(greeting)\n",
        "departure_city = input(\"Выберите город вылета: \", )\n",
        "arrival_city = input(\"Выберите город прилета: \", )\n",
        "print(departure_city,\"-\", arrival_city)\n"
      ],
      "metadata": {
        "colab": {
          "base_uri": "https://localhost:8080/"
        },
        "id": "-3BuUOK6ElnV",
        "outputId": "3ec19713-ac09-43df-99b7-ea1a7379f564"
      },
      "execution_count": 14,
      "outputs": [
        {
          "output_type": "stream",
          "name": "stdout",
          "text": [
            "Приветствуем Вас!\n",
            "Выберите город вылета: Периж\n",
            "Выберите город прилета: Дели\n",
            "Периж - Дели\n"
          ]
        }
      ]
    },
    {
      "cell_type": "code",
      "source": [
        "a = input('Введите первое слово: ')\n",
        "b = input('Введите второе слово: ')\n",
        "print(a, b)\n",
        "a,b = b,a\n",
        "print(a, b)"
      ],
      "metadata": {
        "colab": {
          "base_uri": "https://localhost:8080/"
        },
        "id": "PzkZmbhkGwI_",
        "outputId": "3f730c0a-67f0-44be-f54c-d5870e57a5e2"
      },
      "execution_count": 16,
      "outputs": [
        {
          "output_type": "stream",
          "name": "stdout",
          "text": [
            "Введите первое слово: aaa\n",
            "Введите второе слово: ddd\n",
            "aaa ddd\n",
            "ddd aaa\n"
          ]
        }
      ]
    }
  ]
}