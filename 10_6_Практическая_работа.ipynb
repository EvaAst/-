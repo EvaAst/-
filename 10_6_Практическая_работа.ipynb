{
  "nbformat": 4,
  "nbformat_minor": 0,
  "metadata": {
    "colab": {
      "provenance": [],
      "authorship_tag": "ABX9TyPqTdgmrZnugArDUOKqA5XL",
      "include_colab_link": true
    },
    "kernelspec": {
      "name": "python3",
      "display_name": "Python 3"
    },
    "language_info": {
      "name": "python"
    }
  },
  "cells": [
    {
      "cell_type": "markdown",
      "metadata": {
        "id": "view-in-github",
        "colab_type": "text"
      },
      "source": [
        "<a href=\"https://colab.research.google.com/github/EvaAst/-/blob/main/10_6_%D0%9F%D1%80%D0%B0%D0%BA%D1%82%D0%B8%D1%87%D0%B5%D1%81%D0%BA%D0%B0%D1%8F_%D1%80%D0%B0%D0%B1%D0%BE%D1%82%D0%B0.ipynb\" target=\"_parent\"><img src=\"https://colab.research.google.com/assets/colab-badge.svg\" alt=\"Open In Colab\"/></a>"
      ]
    },
    {
      "cell_type": "code",
      "execution_count": null,
      "metadata": {
        "colab": {
          "base_uri": "https://localhost:8080/"
        },
        "id": "uBKrTZtOIpnQ",
        "outputId": "4a872dee-c2a9-4e19-f1c9-46a5a9aba394"
      },
      "outputs": [
        {
          "output_type": "stream",
          "name": "stdout",
          "text": [
            "0\t2\t4\t6\t8\t10\t\n",
            "1\t3\t5\t7\t9\t11\t\n",
            "2\t4\t6\t8\t10\t12\t\n",
            "3\t5\t7\t9\t11\t13\t\n",
            "4\t6\t8\t10\t12\t14\t\n",
            "5\t7\t9\t11\t13\t15\t\n"
          ]
        }
      ],
      "source": [
        "#Задание 1. Тестовое задание\n",
        "\n",
        "for row in range (6):\n",
        "    for col in range (0, 12, 2):\n",
        "        print(row + col, end = '\\t')\n",
        "    print()\n"
      ]
    },
    {
      "cell_type": "code",
      "source": [
        "#Задание 2. Лестница\n",
        "\n",
        "num = int(input(\"Введите число: \"))\n",
        "for row in range(1, num + 1):\n",
        "    for col in range(row):\n",
        "        print(row, end = \" \")\n",
        "    print()"
      ],
      "metadata": {
        "colab": {
          "base_uri": "https://localhost:8080/"
        },
        "id": "s-l3VDb9Mr1M",
        "outputId": "f970c15e-3256-411b-b2c5-aeba49fb4b87"
      },
      "execution_count": null,
      "outputs": [
        {
          "output_type": "stream",
          "name": "stdout",
          "text": [
            "Введите число: 6\n",
            "1 \n",
            "2 2 \n",
            "3 3 3 \n",
            "4 4 4 4 \n",
            "5 5 5 5 5 \n",
            "6 6 6 6 6 6 \n"
          ]
        }
      ]
    },
    {
      "cell_type": "code",
      "source": [
        "#Задание 3. Рамка\n",
        "\n",
        "width = int(input(\"Введите ширину рамки: \"))\n",
        "height = int(input(\"Введите высоту рамки: \"))\n",
        "\n",
        "for x in range(height):\n",
        "    for y in range(width):\n",
        "        if x == 0 or x == height - 1:                                           # Верхняя или нижняя граница\n",
        "            print('-', end = '')\n",
        "        elif y == 0 or y == width - 1:                                          # Левая или правая граница\n",
        "            print('|', end = '')\n",
        "        else:\n",
        "            print(' ', end = '')                                                  # Внутреннее пространство\n",
        "    print()"
      ],
      "metadata": {
        "colab": {
          "base_uri": "https://localhost:8080/"
        },
        "id": "GtOkn-6dZpH5",
        "outputId": "07c7cdc4-d9e2-4da6-87e0-a048afeea3fa"
      },
      "execution_count": null,
      "outputs": [
        {
          "output_type": "stream",
          "name": "stdout",
          "text": [
            "Введите ширину рамки: 10\n",
            "Введите высоту рамки: 6\n",
            "----------\n",
            "|        |\n",
            "|        |\n",
            "|        |\n",
            "|        |\n",
            "----------\n"
          ]
        }
      ]
    },
    {
      "cell_type": "code",
      "source": [
        "#Задание 4. Простые числа\n",
        "\n",
        "n = int(input(\"Количество чисел: \"))\n",
        "count = 0\n",
        "\n",
        "for _ in range(n):\n",
        "    num = int(input(\"Число: \"))\n",
        "\n",
        "    if num > 1:\n",
        "        prime = True\n",
        "        for x in range(2, num):\n",
        "            if num % x == 0:\n",
        "                prime = False\n",
        "                break\n",
        "        if prime:\n",
        "            count += 1\n",
        "\n",
        "print(\"Простых чисел:\", count)"
      ],
      "metadata": {
        "colab": {
          "base_uri": "https://localhost:8080/"
        },
        "id": "bbKatDyOblzf",
        "outputId": "610decea-506e-4bc2-c93e-3debc8b73f21"
      },
      "execution_count": null,
      "outputs": [
        {
          "output_type": "stream",
          "name": "stdout",
          "text": [
            "Количество чисел: 6\n",
            "Число: 2\n",
            "Число: 87\n",
            "Число: 4\n",
            "Число: 6\n",
            "Число: 8\n",
            "Число: 80\n",
            "Простых чисел: 1\n"
          ]
        }
      ]
    },
    {
      "cell_type": "code",
      "source": [
        "#Задание 5. Наибольшая сумма цифр\n",
        "\n",
        "num1 = int(input(\"Введите количество чисел: \"))\n",
        "max_sum = 0\n",
        "best_number = 0\n",
        "11\n",
        "for i in range(num1):\n",
        "    num = int(input(\"Введите число \" + str(i+1) + \": \"))\n",
        "\n",
        "    if num < 0:                                                                 # Пропускаем отрицательные числа\n",
        "        continue\n",
        "\n",
        "    current_sum = 0\n",
        "    temp = num\n",
        "    while temp > 0:\n",
        "        current_sum += temp % 10\n",
        "        temp = temp // 10\n",
        "\n",
        "    if current_sum > max_sum:                                                   # Проверяю максимум\n",
        "        max_sum = current_sum\n",
        "        best_number = num\n",
        "\n",
        "print(\"Число с наибольшей суммой цифр: \", best_number)\n",
        "print(\"Сумма его цифр: \", max_sum)"
      ],
      "metadata": {
        "colab": {
          "base_uri": "https://localhost:8080/"
        },
        "id": "7VO5zryMk1de",
        "outputId": "a8efdc59-e8f2-4fb8-cf5c-d2bb67826d94"
      },
      "execution_count": 9,
      "outputs": [
        {
          "output_type": "stream",
          "name": "stdout",
          "text": [
            "Введите количество чисел: 3\n",
            "Введите число 1: 1\n",
            "Введите число 2: 8\n",
            "Введите число 3: 77\n",
            "Число с наибольшей суммой цифр:  77\n",
            "Сумма его цифр:  14\n"
          ]
        }
      ]
    },
    {
      "cell_type": "code",
      "source": [
        "#Задание 6. Пирамидка\n",
        "\n",
        "height = int(input(\"Введите высоту пирамиды: \"))\n",
        "\n",
        "for h in range(height):                                                         # цикл для каждой строки пирамиды\n",
        "    for j in range(height - h - 1):                                             # цикл для пробелов (выравнивание по центру)\n",
        "        print(\" \", end = \"\")\n",
        "    for k in range(2 * h + 1):                                                  # цикл для символов \"#\"\n",
        "        print(\"#\", end = \"\")\n",
        "\n",
        "    print()"
      ],
      "metadata": {
        "id": "ZdseoMkolouZ",
        "colab": {
          "base_uri": "https://localhost:8080/"
        },
        "outputId": "a36aa44d-45d1-4393-b349-ab905373aebd"
      },
      "execution_count": 2,
      "outputs": [
        {
          "output_type": "stream",
          "name": "stdout",
          "text": [
            "Введите высоту пирамиды: 8\n",
            "       #\n",
            "      ###\n",
            "     #####\n",
            "    #######\n",
            "   #########\n",
            "  ###########\n",
            " #############\n",
            "###############\n"
          ]
        }
      ]
    },
    {
      "cell_type": "code",
      "source": [
        "# Задание 7. Пирамидка-2\n",
        "\n",
        "levels = int(input(\"Введите количество уровней пирамиды: \"))\n",
        "\n",
        "current_number = 1\n",
        "\n",
        "for gap in range(levels):\n",
        "    for space in range(levels - gap - 1):\n",
        "        print(\" \", end = '  ')                                                   # Пробелы для выравнивания, для ровной пирамиды нужно 2 пробела\n",
        "\n",
        "    for odd_number in range(2 * gap + 1):                                                  # Нечётные числа\n",
        "        print(current_number, end = \" \")\n",
        "        current_number += 2\n",
        "\n",
        "    print()"
      ],
      "metadata": {
        "colab": {
          "base_uri": "https://localhost:8080/"
        },
        "id": "Hl-OriZLqowJ",
        "outputId": "c1c7f239-6150-427a-8214-5aec2ed13783"
      },
      "execution_count": 14,
      "outputs": [
        {
          "output_type": "stream",
          "name": "stdout",
          "text": [
            "Введите количество уровней пирамиды: 7\n",
            "                  1 \n",
            "               3 5 7 \n",
            "            9 11 13 15 17 \n",
            "         19 21 23 25 27 29 31 \n",
            "      33 35 37 39 41 43 45 47 49 \n",
            "   51 53 55 57 59 61 63 65 67 69 71 \n",
            "73 75 77 79 81 83 85 87 89 91 93 95 97 \n"
          ]
        }
      ]
    },
    {
      "cell_type": "code",
      "source": [],
      "metadata": {
        "id": "S2CbZ8As2F0B"
      },
      "execution_count": null,
      "outputs": []
    },
    {
      "cell_type": "code",
      "source": [
        "#Задание 8. Яма\n",
        "\n",
        "n = int(input(\"Введите количество уровней: \"))\n",
        "\n",
        "for i in range(n):\n",
        "\n",
        "    for left in range(n, (n - i) - 1, -1):                                      # Левые числа\n",
        "        print(left, end = \"\")\n",
        "\n",
        "    if i < n - 1:                                                               # Точки (кроме последней строки)\n",
        "        number = 2 * ((n - i) - 1)\n",
        "        print(\".\" * number, end = \"\")\n",
        "\n",
        "    for right in range(n - i, n + 1):                                           # Правые числа\n",
        "        print(right, end = \"\")\n",
        "\n",
        "    print()"
      ],
      "metadata": {
        "colab": {
          "base_uri": "https://localhost:8080/"
        },
        "id": "M0csIL5XuSh_",
        "outputId": "fe535a03-52a5-4a1e-a292-d2f7749420ff"
      },
      "execution_count": 33,
      "outputs": [
        {
          "output_type": "stream",
          "name": "stdout",
          "text": [
            "Введите количество уровней: 10\n",
            "10..................10\n",
            "109................910\n",
            "1098..............8910\n",
            "10987............78910\n",
            "109876..........678910\n",
            "1098765........5678910\n",
            "10987654......45678910\n",
            "109876543....345678910\n",
            "1098765432..2345678910\n",
            "1098765432112345678910\n"
          ]
        }
      ]
    }
  ]
}