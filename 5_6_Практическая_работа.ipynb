{
  "nbformat": 4,
  "nbformat_minor": 0,
  "metadata": {
    "colab": {
      "provenance": [],
      "authorship_tag": "ABX9TyMrOSrCGEq98M6+oAyE+pTi",
      "include_colab_link": true
    },
    "kernelspec": {
      "name": "python3",
      "display_name": "Python 3"
    },
    "language_info": {
      "name": "python"
    }
  },
  "cells": [
    {
      "cell_type": "markdown",
      "metadata": {
        "id": "view-in-github",
        "colab_type": "text"
      },
      "source": [
        "<a href=\"https://colab.research.google.com/github/EvaAst/-/blob/main/5_6_%D0%9F%D1%80%D0%B0%D0%BA%D1%82%D0%B8%D1%87%D0%B5%D1%81%D0%BA%D0%B0%D1%8F_%D1%80%D0%B0%D0%B1%D0%BE%D1%82%D0%B0.ipynb\" target=\"_parent\"><img src=\"https://colab.research.google.com/assets/colab-badge.svg\" alt=\"Open In Colab\"/></a>"
      ]
    },
    {
      "cell_type": "code",
      "execution_count": 2,
      "metadata": {
        "colab": {
          "base_uri": "https://localhost:8080/"
        },
        "id": "CW18gChW3GK2",
        "outputId": "5d496349-e67c-4eda-b4d5-6891bb41e63a"
      },
      "outputs": [
        {
          "output_type": "stream",
          "name": "stdout",
          "text": [
            "Введите количество опыта: 8000\n",
            "Ваш уровень:  4\n"
          ]
        }
      ],
      "source": [
        "#Задача 1. Калькулятор опыта\n",
        "experience = int(input(\"Введите количество опыта: \"))\n",
        "\n",
        "if experience >= 5000:\n",
        "    level = 4\n",
        "elif experience >= 2500:\n",
        "    level = 3\n",
        "elif experience >= 1000:\n",
        "    level = 2\n",
        "else:\n",
        "    level = 1\n",
        "\n",
        "print(\"Ваш уровень: \", level)"
      ]
    },
    {
      "cell_type": "code",
      "source": [
        "#Задача 2. Функция\n",
        "\n",
        "x = int(input(\"Введите икс: \"))\n",
        "\n",
        "if x > 0:\n",
        "    y = x - 12\n",
        "elif x == 0:\n",
        "    y = 5\n",
        "else:\n",
        "    y = x**2\n",
        "\n",
        "print(\"Игрек равен \", y)"
      ],
      "metadata": {
        "colab": {
          "base_uri": "https://localhost:8080/"
        },
        "id": "vWoO2Ysq3oJu",
        "outputId": "b957af2e-df89-4a31-bb40-8d5052f86bfc"
      },
      "execution_count": 8,
      "outputs": [
        {
          "output_type": "stream",
          "name": "stdout",
          "text": [
            "Введите икс: -9\n",
            "Игрек равен  81\n"
          ]
        }
      ]
    },
    {
      "cell_type": "code",
      "source": [
        "#Задача 3. Поступление\n",
        "\n",
        "place = int(input(\"Введите место в списке поступающих: \"))\n",
        "score = int(input(\"Введите количество баллов за экзамены: \"))\n",
        "\n",
        "if place <= 10:\n",
        "    print(\"Поздравляем, вы поступили!\")\n",
        "    if score >= 290:\n",
        "        print(\"Бонусом вам будет начисляться стипендия.\")\n",
        "    else:\n",
        "        print(\"Но вам не хватило баллов для стипендии.\")\n",
        "else:\n",
        "    print(\"К сожалению, вы не поступили.\")"
      ],
      "metadata": {
        "colab": {
          "base_uri": "https://localhost:8080/"
        },
        "id": "LSdv20BT6nbg",
        "outputId": "a611df9f-a8d3-4740-a82f-bc43076af5c3"
      },
      "execution_count": 12,
      "outputs": [
        {
          "output_type": "stream",
          "name": "stdout",
          "text": [
            "Введите место в списке поступающих: 3\n",
            "Введите количество баллов за экзамены: 291\n",
            "Поздравляем, вы поступили!\n",
            "Бонусом вам будет начисляться стипендия.\n"
          ]
        }
      ]
    },
    {
      "cell_type": "code",
      "source": [
        "#Задача 4. Опять двойка\n",
        "\n",
        "rating = int(input('Что получил по математике? '))\n",
        "if rating == 2 or rating == 3 :\n",
        " print('Плохо. Марш учиться!')\n",
        "elif rating == 4 or rating == 5:\n",
        " print('Молодец! Можешь отдохнуть.')"
      ],
      "metadata": {
        "colab": {
          "base_uri": "https://localhost:8080/"
        },
        "id": "AtLPW9pw7zCM",
        "outputId": "11ff5f0f-bcbc-485e-9928-c00bba4ccf97"
      },
      "execution_count": 21,
      "outputs": [
        {
          "output_type": "stream",
          "name": "stdout",
          "text": [
            "Что получил по математике? 5\n",
            "Молодец! Можешь отдохнуть.\n"
          ]
        }
      ]
    },
    {
      "cell_type": "code",
      "source": [
        "#Задача 5. Вася хочет выигрывать\n",
        "\n",
        "num1 = int(input(\"Введите первое число: \"))\n",
        "num2 = int(input(\"Введите второе число: \"))\n",
        "num3 = int(input(\"Введите третье число: \"))\n",
        "\n",
        "if num1 == num2 == num3:\n",
        "    print(3)\n",
        "elif num1 == num2 or num1 == num3 or num2 == num3:\n",
        "    print(2)\n",
        "else:\n",
        "    print(0)"
      ],
      "metadata": {
        "colab": {
          "base_uri": "https://localhost:8080/"
        },
        "id": "TMtY9lJI9Fdy",
        "outputId": "4c8ad17a-fb88-409e-b1e0-c84125a8b716"
      },
      "execution_count": 24,
      "outputs": [
        {
          "output_type": "stream",
          "name": "stdout",
          "text": [
            "Введите первое число: 5\n",
            "Введите второе число: 6\n",
            "Введите третье число: 6\n",
            "2\n"
          ]
        }
      ]
    },
    {
      "cell_type": "code",
      "source": [
        "#Задача 6. Новоселье\n",
        "\n",
        "square_meters = int(input(\"Введите квадратные метры: \"))\n",
        "cost = int(input(\"Введите стоимость квартиры: \"))\n",
        "if square_meters >= 100 and cost <= 10000000: # Выбрать квартиру (не менее 100 м2), но стоимостью не более 10 млн.\n",
        "  print(\"Подходит\")\n",
        "elif square_meters >= 80 and cost <= 7000000: # Или выбрать квартиру поменьше (от 80 м2), но и стоимостью не более 7 млн.\n",
        "  print(\"Подходит\")\n",
        "else:\n",
        "  print(\"Не походит\")\n"
      ],
      "metadata": {
        "colab": {
          "base_uri": "https://localhost:8080/"
        },
        "id": "QueLIct6-T-f",
        "outputId": "4c562554-d9bc-4833-bda9-25bea7c412ad"
      },
      "execution_count": 7,
      "outputs": [
        {
          "output_type": "stream",
          "name": "stdout",
          "text": [
            "Введите квадратные метры: 80\n",
            "Введите стоимость квартиры: 10000000\n",
            "Не походит\n"
          ]
        }
      ]
    },
    {
      "cell_type": "code",
      "source": [
        "# Задача 7. Почта\n",
        "\n",
        "hour = int(input(\"Введите час (от 0 до 23): \"))\n",
        "\n",
        "if hour < 8 or hour >= 22 or 14 <= hour < 15 or 10 <= hour < 12 or 18 <= hour < 20:\n",
        "    print(\"Посылку получить нельзя\")\n",
        "else:\n",
        "    print(\"Можно получить посылку\")"
      ],
      "metadata": {
        "colab": {
          "base_uri": "https://localhost:8080/"
        },
        "id": "Pkvj0S6U8AcX",
        "outputId": "0d5ca78d-7286-4a1c-ed1d-d15f7c33d469"
      },
      "execution_count": 13,
      "outputs": [
        {
          "output_type": "stream",
          "name": "stdout",
          "text": [
            "Введите час (от 0 до 23): 11\n",
            "Посылку получить нельзя\n"
          ]
        }
      ]
    }
  ]
}