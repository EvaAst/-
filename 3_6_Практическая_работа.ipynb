{
  "nbformat": 4,
  "nbformat_minor": 0,
  "metadata": {
    "colab": {
      "provenance": [],
      "authorship_tag": "ABX9TyNt5PLDTCHakAEmzW62fWlU",
      "include_colab_link": true
    },
    "kernelspec": {
      "name": "python3",
      "display_name": "Python 3"
    },
    "language_info": {
      "name": "python"
    }
  },
  "cells": [
    {
      "cell_type": "markdown",
      "metadata": {
        "id": "view-in-github",
        "colab_type": "text"
      },
      "source": [
        "<a href=\"https://colab.research.google.com/github/EvaAst/-/blob/main/3_6_%D0%9F%D1%80%D0%B0%D0%BA%D1%82%D0%B8%D1%87%D0%B5%D1%81%D0%BA%D0%B0%D1%8F_%D1%80%D0%B0%D0%B1%D0%BE%D1%82%D0%B0.ipynb\" target=\"_parent\"><img src=\"https://colab.research.google.com/assets/colab-badge.svg\" alt=\"Open In Colab\"/></a>"
      ]
    },
    {
      "cell_type": "code",
      "execution_count": 7,
      "metadata": {
        "colab": {
          "base_uri": "https://localhost:8080/"
        },
        "id": "yCkSg5x4eUzY",
        "outputId": "0e6c26eb-47f5-47d3-b8f1-cb669ff2400a"
      },
      "outputs": [
        {
          "output_type": "stream",
          "name": "stdout",
          "text": [
            "-5\n"
          ]
        }
      ],
      "source": [
        "#Задача 1. Язык математики\n",
        "a = 8\n",
        "b = 10\n",
        "c = 12\n",
        "d = 18\n",
        "expression = int((-3+(a**2))*(b-2**3)/(c-2*d))\n",
        "\n",
        "print(expression)"
      ]
    },
    {
      "cell_type": "code",
      "source": [
        "#Задача 2. Финансовый отчёт\n",
        "quarter1 = int(input(\"Введите доход за 1-й квартал: \"))\n",
        "quarter2 = int(input(\"Введите доход за 2-й квартал: \"))\n",
        "quarter3 = int(input(\"Введите доход за 3-й квартал: \"))\n",
        "quarter4 = int(input(\"Введите доход за 4-й квартал: \"))\n",
        "first_half = quarter1 + quarter2  # сумма первых двух кварталов\n",
        "second_half = quarter3 + quarter4  # сумма последних двух кварталов\n",
        "result = first_half / second_half # Делим первую сумму на вторую\n",
        "\n",
        "print(\"Динамика доходов: \", result)"
      ],
      "metadata": {
        "colab": {
          "base_uri": "https://localhost:8080/"
        },
        "id": "uSQc9SOof8Co",
        "outputId": "6b4936c6-6880-4b36-b44c-d15def7bfb59"
      },
      "execution_count": 11,
      "outputs": [
        {
          "output_type": "stream",
          "name": "stdout",
          "text": [
            "Введите доход за 1-й квартал: 10\n",
            "Введите доход за 2-й квартал: 2\n",
            "Введите доход за 3-й квартал: 10\n",
            "Введите доход за 4-й квартал: 2\n",
            "Динамика доходов:  1.0\n"
          ]
        }
      ]
    },
    {
      "cell_type": "code",
      "source": [
        "#Задача 3. Следующее и предыдущее числа\n",
        "num = int(input(\"Введите число: \"))\n",
        "num_after = num + 1 # число после\n",
        "num_before = num - 1 # число предыдущее\n",
        "\n",
        "print(\"После числа \", num, \"Идет число \", num_after)\n",
        "print(\"До числа \", num, \"Идет число \", num_before)"
      ],
      "metadata": {
        "colab": {
          "base_uri": "https://localhost:8080/"
        },
        "id": "8754zcSZl2us",
        "outputId": "802b72c2-27e5-4247-df8a-0767901bf56f"
      },
      "execution_count": 13,
      "outputs": [
        {
          "output_type": "stream",
          "name": "stdout",
          "text": [
            "Введите число: 6\n",
            "После числа  6 Идет число  7\n",
            "До числа  6 Идет число  5\n"
          ]
        }
      ]
    },
    {
      "cell_type": "code",
      "source": [
        "#Задача 4. Площадь треугольника\n",
        "a = int(input(\"Введите длину первого катета: \"))\n",
        "b = int(input(\"Введите длину второго катета: \"))\n",
        "s = (a * b) / 2         # площадь треугольника\n",
        "\n",
        "print(\"Площадь прямоугольного треугольника: \", s)"
      ],
      "metadata": {
        "colab": {
          "base_uri": "https://localhost:8080/"
        },
        "id": "RgUW_cGfo2Mf",
        "outputId": "5ce1177a-d517-429a-b53e-7cf55cb68801"
      },
      "execution_count": 14,
      "outputs": [
        {
          "output_type": "stream",
          "name": "stdout",
          "text": [
            "Введите длину первого катета: 1\n",
            "Введите длину второго катета: 1\n",
            "Площадь прямоугольного треугольника:  0.5\n"
          ]
        }
      ]
    },
    {
      "cell_type": "code",
      "source": [
        "#Задача 5. Часы\n",
        "n = int(input(\"Введите количество минут: \"))\n",
        "hours = n // 60         # Вычисляем количество полных часов и оставшихся минут\n",
        "minutes = n % 60\n",
        "\n",
        "print(n, \"минут - это \",hours, \"часов и\", minutes, \"минут\")"
      ],
      "metadata": {
        "colab": {
          "base_uri": "https://localhost:8080/"
        },
        "id": "KysoowgrrKoT",
        "outputId": "12cf99aa-544b-4c4d-e236-40ccb13fc48b"
      },
      "execution_count": 15,
      "outputs": [
        {
          "output_type": "stream",
          "name": "stdout",
          "text": [
            "Введите количество минут: 123\n",
            "123 минут - это  2 часов и 3 минут\n"
          ]
        }
      ]
    },
    {
      "cell_type": "code",
      "source": [
        "#Задача 6. Проверяем бухгалтера\n",
        "num1 = int(input(\"Введите первое число: \"))\n",
        "num2 = int(input(\"Введите второе число: \"))\n",
        "\n",
        "last_two1 = num1 % 100  # Берем две последние цифры каждого числа\n",
        "last_two2 = num2 % 100\n",
        "result = last_two1 + last_two2\n",
        "\n",
        "print(\"Сумма: \", result)\n"
      ],
      "metadata": {
        "colab": {
          "base_uri": "https://localhost:8080/"
        },
        "id": "qWizmvAcs0Xh",
        "outputId": "2fbc182a-90ff-44e2-e6a8-e9f8807466af"
      },
      "execution_count": 21,
      "outputs": [
        {
          "output_type": "stream",
          "name": "stdout",
          "text": [
            "Введите первое число: 12\n",
            "Введите второе число: 16\n",
            "Сумма:  28\n",
            "28\n"
          ]
        }
      ]
    },
    {
      "cell_type": "code",
      "source": [
        "#Задача 7. Режем число на части\n",
        "number = int(input(\"Введите четырехзначное число: \"))\n",
        "\n",
        "digit1 = number // 1000\n",
        "digit2 = (number // 100) % 10\n",
        "digit3 = (number // 10) % 10\n",
        "digit4 = number % 10\n",
        "\n",
        "print(digit1)\n",
        "print(digit2)\n",
        "print(digit3)\n",
        "print(digit4)"
      ],
      "metadata": {
        "colab": {
          "base_uri": "https://localhost:8080/"
        },
        "id": "tW_GjZjEvB_M",
        "outputId": "cd290103-7fbc-4f2b-a2e0-d6d6f82bc104"
      },
      "execution_count": 23,
      "outputs": [
        {
          "output_type": "stream",
          "name": "stdout",
          "text": [
            "Введите четырехзначное число: 5678\n",
            "5\n",
            "6\n",
            "7\n",
            "8\n"
          ]
        }
      ]
    },
    {
      "cell_type": "code",
      "source": [
        "#Задача 8. Поменять местами: не всё так просто!\n",
        "a = int(input('Введите первое число: '))\n",
        "b = int(input('Введите второе число: '))\n",
        "print(a, b)\n",
        "a,b = b, a    # вставить свой код здесь\n",
        "print(a, b)"
      ],
      "metadata": {
        "colab": {
          "base_uri": "https://localhost:8080/"
        },
        "id": "EPs-mb7EwNvq",
        "outputId": "dcac9d9a-d190-41f8-d1b4-944a82188e08"
      },
      "execution_count": 24,
      "outputs": [
        {
          "output_type": "stream",
          "name": "stdout",
          "text": [
            "Введите первое число: 1\n",
            "Введите второе число: 2\n",
            "1 2\n",
            "2 1\n"
          ]
        }
      ]
    }
  ]
}