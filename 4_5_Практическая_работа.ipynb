{
  "nbformat": 4,
  "nbformat_minor": 0,
  "metadata": {
    "colab": {
      "provenance": [],
      "authorship_tag": "ABX9TyP6Z4W9Z8xTg2SGMjDX8D7+",
      "include_colab_link": true
    },
    "kernelspec": {
      "name": "python3",
      "display_name": "Python 3"
    },
    "language_info": {
      "name": "python"
    }
  },
  "cells": [
    {
      "cell_type": "markdown",
      "metadata": {
        "id": "view-in-github",
        "colab_type": "text"
      },
      "source": [
        "<a href=\"https://colab.research.google.com/github/EvaAst/-/blob/main/4_5_%D0%9F%D1%80%D0%B0%D0%BA%D1%82%D0%B8%D1%87%D0%B5%D1%81%D0%BA%D0%B0%D1%8F_%D1%80%D0%B0%D0%B1%D0%BE%D1%82%D0%B0.ipynb\" target=\"_parent\"><img src=\"https://colab.research.google.com/assets/colab-badge.svg\" alt=\"Open In Colab\"/></a>"
      ]
    },
    {
      "cell_type": "code",
      "execution_count": 6,
      "metadata": {
        "colab": {
          "base_uri": "https://localhost:8080/"
        },
        "id": "vBAiCMTPOUm6",
        "outputId": "cab117d5-fc2f-4243-f8d7-4c731a74f406"
      },
      "outputs": [
        {
          "output_type": "stream",
          "name": "stdout",
          "text": [
            "На улице идет дождь? 0\n",
            "Дождя нет!\n"
          ]
        }
      ],
      "source": [
        "#Задача 1. Датчик погоды\n",
        "weather = int(input(\"На улице идет дождь? \"))\n",
        "if weather == 1:\n",
        "  print(\"Пошёл дождь. Возьмите зонтик!\")\n",
        "else:\n",
        "  print(\"Дождя нет!\")"
      ]
    },
    {
      "cell_type": "code",
      "source": [
        "#Задача 2. Поступление\n",
        "rus_language = int(input(\"Введите количество баллов по русскому языку: \"))\n",
        "mathematics = int(input(\"Введите количество баллов по математике: \"))\n",
        "computer_science = int(input(\"Введите количество баллов по информатике: \"))\n",
        "passing_score = 270 # Проходной балл\n",
        "if rus_language + mathematics + computer_science >= passing_score:\n",
        "  print(\"Поздравляю, ты поступил на бюджет!\")\n",
        "else:\n",
        "  print(\"К сожалению, ты не прошёл на бюджет.\")"
      ],
      "metadata": {
        "colab": {
          "base_uri": "https://localhost:8080/"
        },
        "id": "KJzpPVsAVCGT",
        "outputId": "693a5e5c-0507-4898-dc8a-27954ad5fc70"
      },
      "execution_count": 9,
      "outputs": [
        {
          "output_type": "stream",
          "name": "stdout",
          "text": [
            "Введите количество баллов по русскому языку: 90\n",
            "Введите количество баллов по математике: 91\n",
            "Введите количество баллов по информатике: 89\n",
            "Поздравляю, ты поступил на бюджет!\n"
          ]
        }
      ]
    },
    {
      "cell_type": "code",
      "source": [
        "#Задача 3. Следим за расписанием\n",
        "number = int(input(\"Введите число: \"))\n",
        "if number % 2 == 0: # Проверяем, четное ли число\n",
        "    print(\"Число четное. Можно работать!\")\n",
        "else:\n",
        "    print(\"Число нечетное. Отдыхаем!\")"
      ],
      "metadata": {
        "colab": {
          "base_uri": "https://localhost:8080/"
        },
        "id": "ydRzWBX9YWyv",
        "outputId": "28968f3e-5bb8-430f-e068-5337bc991b53"
      },
      "execution_count": 11,
      "outputs": [
        {
          "output_type": "stream",
          "name": "stdout",
          "text": [
            "Введите число: 2\n",
            "Число четное. Можно работать!\n"
          ]
        }
      ]
    },
    {
      "cell_type": "code",
      "source": [
        "#Задача 4. Калькулятор скидки\n",
        "\n",
        "price1 = int(input(\"Введите стоимость первого стула: \"))\n",
        "price2 = int(input(\"Введите стоимость второго стула: \"))\n",
        "price3 = int(input(\"Введите стоимость третьего стула: \"))\n",
        "\n",
        "total = price1 + price2 + price3\n",
        "print(\"Сумма стоимости стульев: \", total)\n",
        "if total > 10000:\n",
        "    discount = total * 10 / 100  # Применяем скидку\n",
        "    print(\"Итоговая сумма к оплате со скидкой 10%: \", total-discount, \"руб.\")"
      ],
      "metadata": {
        "colab": {
          "base_uri": "https://localhost:8080/"
        },
        "id": "rSIROp_5ZON8",
        "outputId": "b51a1881-300a-416e-9887-cfefc7d54c12"
      },
      "execution_count": 18,
      "outputs": [
        {
          "output_type": "stream",
          "name": "stdout",
          "text": [
            "Введите стоимость первого стула: 20000\n",
            "Введите стоимость второго стула: 80000\n",
            "Введите стоимость третьего стула: 9000\n",
            "Сумма стоимости стульев:  109000\n",
            "Итоговая сумма к оплате со скидкой 10%:  98100.0 руб.\n"
          ]
        }
      ]
    },
    {
      "cell_type": "code",
      "source": [
        "#Задача 5. Модуль числа\n",
        "\n",
        "x = int(input(\"Введите число: \"))\n",
        "if x < 0:\n",
        "    x = -x  # Меняем знак на противоположный\n",
        "print(\"Модуль введенного числа: \", x)"
      ],
      "metadata": {
        "colab": {
          "base_uri": "https://localhost:8080/"
        },
        "id": "cHnSHYpBcWLz",
        "outputId": "43e34c88-0fe0-4322-abf1-aa2fa9639bb9"
      },
      "execution_count": 21,
      "outputs": [
        {
          "output_type": "stream",
          "name": "stdout",
          "text": [
            "Введите число: -9\n",
            "Модуль введенного числа:  9\n"
          ]
        }
      ]
    },
    {
      "cell_type": "code",
      "source": [
        "#Задача 6. Игра в кубики\n",
        "\n",
        "kostya = int(input(\"Кубик Кости: \"))\n",
        "owner = int(input(\"Кубик владельца: \"))\n",
        "\n",
        "if kostya >= owner:\n",
        "    difference = kostya - owner\n",
        "    print(\"Разность: \", difference)\n",
        "    print(\"Игрок платит\")\n",
        "else:\n",
        "    total = kostya + owner\n",
        "    print(\"Сумма: \", total)\n",
        "    print(\"Владелец платит\")\n",
        "\n",
        "print(\"Игра окончена\")"
      ],
      "metadata": {
        "colab": {
          "base_uri": "https://localhost:8080/"
        },
        "id": "Hyq9oI2gdm3M",
        "outputId": "c8c6e61b-5e62-4cd8-92da-630ea856ef1a"
      },
      "execution_count": 26,
      "outputs": [
        {
          "output_type": "stream",
          "name": "stdout",
          "text": [
            "Кубик Кости: 7\n",
            "Кубик владельца: 9\n",
            "Сумма:  16\n",
            "Владелец платит\n",
            "Игра окончена\n"
          ]
        }
      ]
    },
    {
      "cell_type": "code",
      "source": [
        "#Задача 7. Хватит ли зарплаты\n",
        "\n",
        "hours = int(input(\"Введите отработанные часы: \"))\n",
        "credit = int(input(\"Введите остаток по кредиту: \"))\n",
        "food = int(input(\"Введите траты на еду: \"))\n",
        "\n",
        "salary = ((200*hours)/(2**3)) + hours\n",
        "total_expenses = credit + food  # Вычисляем общие расходы (кредит + еда)\n",
        "\n",
        "if salary >= total_expenses:       # Проверяем, хватает ли зарплаты\n",
        "    print(\"Часов хватает. Можно отдохнуть\")\n",
        "else:\n",
        "    print(\"Часов не хватает. Придётся работать больше!\")\n",
        "\n",
        "print(\"Зарплата: \", salary)\n",
        "print(\"Общие расходы: \", total_expenses)\n",
        "\n"
      ],
      "metadata": {
        "colab": {
          "base_uri": "https://localhost:8080/"
        },
        "id": "BoPjIF14f4NW",
        "outputId": "2c0de01a-ce93-4451-9b48-ca036de5b559"
      },
      "execution_count": 28,
      "outputs": [
        {
          "output_type": "stream",
          "name": "stdout",
          "text": [
            "Введите отработанные часы: 1234\n",
            "Введите остаток по кредиту: 10000\n",
            "Введите траты на еду: 6000\n",
            "Часов хватает. Можно отдохнуть\n",
            "Зарплата:  32084.0\n",
            "Общие расходы:  16000\n"
          ]
        }
      ]
    },
    {
      "cell_type": "code",
      "source": [
        "#Задача 8. Максимальное число (по желанию)\n",
        "\n",
        "num1 = int(input(\"Введите первое число: \"))\n",
        "num2 = int(input(\"Введите второе число: \"))\n",
        "num3 = int(input(\"Введите третье число: \"))\n",
        "\n",
        "\n",
        "if num1 > num2 and num1 > num3:\n",
        "    maximum = num1\n",
        "if num2 > num1 and num2 > num3:\n",
        "    maximum = num2\n",
        "else:\n",
        "    maximum = num3\n",
        "\n",
        "print(\"Максимальное число: \", maximum)\n",
        ""
      ],
      "metadata": {
        "colab": {
          "base_uri": "https://localhost:8080/"
        },
        "id": "vAfXvTQ1jLyQ",
        "outputId": "22a61b3c-9570-4e9b-d9d6-aaeb9761aad7"
      },
      "execution_count": 32,
      "outputs": [
        {
          "output_type": "stream",
          "name": "stdout",
          "text": [
            "Введите первое число: 3\n",
            "Введите второе число: 4\n",
            "Введите третье число: 5\n",
            "Максимальное число:  5\n"
          ]
        }
      ]
    }
  ]
}