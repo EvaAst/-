{
  "nbformat": 4,
  "nbformat_minor": 0,
  "metadata": {
    "colab": {
      "provenance": [],
      "authorship_tag": "ABX9TyNkBJR4Qz10ZR+4bQoBIEoO",
      "include_colab_link": true
    },
    "kernelspec": {
      "name": "python3",
      "display_name": "Python 3"
    },
    "language_info": {
      "name": "python"
    }
  },
  "cells": [
    {
      "cell_type": "markdown",
      "metadata": {
        "id": "view-in-github",
        "colab_type": "text"
      },
      "source": [
        "<a href=\"https://colab.research.google.com/github/EvaAst/-/blob/main/9_6_%D0%9F%D1%80%D0%B0%D0%BA%D1%82%D0%B8%D1%87%D0%B5%D1%81%D0%BA%D0%B0%D1%8F_%D1%80%D0%B0%D0%B1%D0%BE%D1%82%D0%B0.ipynb\" target=\"_parent\"><img src=\"https://colab.research.google.com/assets/colab-badge.svg\" alt=\"Open In Colab\"/></a>"
      ]
    },
    {
      "cell_type": "code",
      "execution_count": null,
      "metadata": {
        "colab": {
          "base_uri": "https://localhost:8080/"
        },
        "id": "4BSEnnNrQ7zE",
        "outputId": "f31f9d90-d060-4d44-fb4b-515df9254ddf"
      },
      "outputs": [
        {
          "output_type": "stream",
          "name": "stdout",
          "text": [
            "Какое твое пиратское приветствие? Привет\n",
            "Не принят в команду.\n",
            "Какое твое пиратское приветствие? Здорова\n",
            "Не принят в команду.\n",
            "Какое твое пиратское приветствие? Хай\n",
            "Не принят в команду.\n",
            "Какое твое пиратское приветствие? Карамба\n",
            "Принят в команду!\n",
            "Какое твое пиратское приветствие? карамба\n",
            "Принят в команду!\n",
            "Какое твое пиратское приветствие? корамба\n",
            "Не принят в команду.\n",
            "Какое твое пиратское приветствие? дай рома\n",
            "Не принят в команду.\n",
            "Какое твое пиратское приветствие? Карамба\n",
            "Принят в команду!\n",
            "Какое твое пиратское приветствие? Здравствуйте\n",
            "Не принят в команду.\n",
            "Какое твое пиратское приветствие? Чао\n",
            "Не принят в команду.\n",
            "Количество пиратов:  3\n"
          ]
        }
      ],
      "source": [
        "# Задание 1. «Я стал новым пиратом!»\n",
        "\n",
        "pirate_counter = 0\n",
        "for word in range(10):\n",
        "    words = input(\"Какое твое пиратское приветствие? \")\n",
        "    if (words == \"Карамба\") or (words == \"карамба\"):\n",
        "        print(\"Принят в команду!\")\n",
        "        pirate_counter += 1\n",
        "    else:\n",
        "        print(\"Не принят в команду.\")\n",
        "\n",
        "print(\"Количество пиратов: \", pirate_counter)"
      ]
    },
    {
      "cell_type": "code",
      "source": [
        "#Задание 2. Кривой мессенджер\n",
        "\n",
        "text = input('Введите текст: ')\n",
        "for symbol in text:\n",
        "    if symbol == \"*\":\n",
        "        position = text.index('*') + 1\n",
        "        print(\"Символ «*» стоит на позиции\", position)\n",
        "if symbol != \"*\":\n",
        "    print(\"Не найдена *\")"
      ],
      "metadata": {
        "colab": {
          "base_uri": "https://localhost:8080/"
        },
        "id": "5F3EHPiIeuor",
        "outputId": "16126d49-d11a-40e6-eee6-9d6f96ff529b"
      },
      "execution_count": null,
      "outputs": [
        {
          "output_type": "stream",
          "name": "stdout",
          "text": [
            "Введите текст: ghj\n",
            "Не найдена *\n"
          ]
        }
      ]
    },
    {
      "cell_type": "code",
      "source": [
        "#Задание 3. Театр\n",
        "\n",
        "rows = int(input(\"Введите количество рядов: \"))\n",
        "seats = int(input(\"Введите количество сидений в ряде: \"))\n",
        "meter = int(input(\"Введите количество метров между рядами: \"))\n",
        "\n",
        "print(\"                      Сцена\")\n",
        "print(\"=\" * 40)\n",
        "\n",
        "for row in range(rows):\n",
        "    print(\"\\n Ряд\", row + 1,  '=' * seats, \"*\" * meter, '=' * seats, end=\"\")\n",
        "\n",
        "\n"
      ],
      "metadata": {
        "colab": {
          "base_uri": "https://localhost:8080/"
        },
        "id": "f3_vYVyFlUF3",
        "outputId": "2d3b070e-3384-4dba-a1bb-1bcf0f941998"
      },
      "execution_count": null,
      "outputs": [
        {
          "output_type": "stream",
          "name": "stdout",
          "text": [
            "Введите количество рядов: 5\n",
            "Введите количество сидений в ряде: 15\n",
            "Введите количество метров между рядами: 3\n",
            "                      Сцена\n",
            "========================================\n",
            "\n",
            " Ряд 1 =============== *** ===============\n",
            " Ряд 2 =============== *** ===============\n",
            " Ряд 3 =============== *** ===============\n",
            " Ряд 4 =============== *** ===============\n",
            " Ряд 5 =============== *** ==============="
          ]
        }
      ]
    },
    {
      "cell_type": "code",
      "source": [
        "#Задание 4. Марсоход-2\n",
        "\n",
        "x = 8                                                                           # Начальные координаты робота (центр комнаты 15x20 м)\n",
        "y = 10\n",
        "\n",
        "MAX_X = 15                                                                      # Границы помещения\n",
        "MAX_Y = 20\n",
        "\n",
        "print(\"Марсоход Билли активирован!\")\n",
        "print(\"Начальная позиция: \", x, y)\n",
        "print(\"Команды: W - север, S - юг, A - запад, D - восток\")\n",
        "\n",
        "while True:                                                                     # .upper() позволяет преобразовать буквы в верхний регистр\n",
        "    command = input(\"Марсоход находится на позиции \" + str(x) + \", \" + str(y) + \", (Используйте: W, A, S, D) введите команду: \\n\").upper()\n",
        "\n",
        "    if command == 'W':  # Север (увеличиваем y)\n",
        "        if y < MAX_Y:\n",
        "            y += 1\n",
        "        else:\n",
        "            print(\"Достигнута северная граница! Движение невозможно.\")\n",
        "\n",
        "    elif command == 'S':  # Юг (уменьшаем y)\n",
        "        if y > 1:\n",
        "            y -= 1\n",
        "        else:\n",
        "            print(\"Достигнута южная граница! Движение невозможно.\")\n",
        "\n",
        "    elif command == 'D':  # Восток (увеличиваем x)\n",
        "        if x < MAX_X:\n",
        "            x += 1\n",
        "        else:\n",
        "            print(\"Достигнута восточная граница! Движение невозможно.\")\n",
        "\n",
        "    elif command == 'A':  # Запад (уменьшаем x)\n",
        "        if x > 1:\n",
        "            x -= 1\n",
        "        else:\n",
        "            print(\"Достигнута западная граница! Движение невозможно.\")\n",
        "\n",
        "    elif command == 'X' or command == 'STOP':\n",
        "        print(\"Завершение работы программы. Удачи, Билли!\")\n",
        "        break\n",
        "\n",
        "    else:\n",
        "        print(\"Неизвестная команда! Используйте: W, A, S, D\")"
      ],
      "metadata": {
        "colab": {
          "base_uri": "https://localhost:8080/"
        },
        "id": "hLBVhEJwHG9G",
        "outputId": "6438be2d-b019-450f-aebf-d161498bc46e"
      },
      "execution_count": null,
      "outputs": [
        {
          "output_type": "stream",
          "name": "stdout",
          "text": [
            "Марсоход Билли активирован!\n",
            "Начальная позиция:  8 10\n",
            "Команды: W - север, S - юг, A - запад, D - восток\n",
            "Марсоход находится на позиции 8, 10, (Используйте: W, A, S, D) введите команду: \n",
            "W\n",
            "Марсоход находится на позиции 8, 11, (Используйте: W, A, S, D) введите команду: \n",
            "A\n",
            "Марсоход находится на позиции 7, 11, (Используйте: W, A, S, D) введите команду: \n",
            "D\n",
            "Марсоход находится на позиции 8, 11, (Используйте: W, A, S, D) введите команду: \n",
            "S\n",
            "Марсоход находится на позиции 8, 10, (Используйте: W, A, S, D) введите команду: \n",
            "X\n",
            "Завершение работы программы. Удачи, Билли!\n"
          ]
        }
      ]
    },
    {
      "cell_type": "code",
      "source": [
        "#Задание 5. Великий и могучий\n",
        "\n",
        "text = input(\"Введите текст: \")\n",
        "\n",
        "words = text.split()                                                            # .split() - разделяет строку на список слов по пробелам\n",
        "\n",
        "longest_word = \"\"                                                               # Находим самое длинное слово\n",
        "max_length = 0\n",
        "\n",
        "for word in words:\n",
        "    if len(word) > max_length:                                                  # Сравниваем длину текущего слова с максимальной\n",
        "        max_length = len(word)\n",
        "        longest_word = word\n",
        "\n",
        "print(f\"Самое длинное слово: \", longest_word,  \"букв:\", max_length)"
      ],
      "metadata": {
        "colab": {
          "base_uri": "https://localhost:8080/"
        },
        "id": "h7MGlYB4NxZE",
        "outputId": "5a351436-012e-4545-f6b2-17428e6c1a51"
      },
      "execution_count": null,
      "outputs": [
        {
          "output_type": "stream",
          "name": "stdout",
          "text": [
            "Введите текст: а привет\n",
            "Самое длинное слово:  привет букв: 6\n"
          ]
        }
      ]
    },
    {
      "cell_type": "code",
      "source": [
        "#Задание 6. Коровы\n",
        "\n",
        "stalls = input(\"Введите статус 10 стойл (10 символов используя a/b): \")\n",
        "\n",
        "productivity = [2, 4, 6, 8, 10, 12, 14, 16, 18, 20]                             # Производительность стойл\n",
        "\n",
        "total_milk = 0\n",
        "for status, milk in zip(stalls, productivity):                                  # Считаем молоко используя zip для объединения списков\n",
        "    if status == 'b':\n",
        "        total_milk += milk\n",
        "\n",
        "print(\"Всего произведено молока:\", total_milk, \"литров\")"
      ],
      "metadata": {
        "id": "dgeRcTMBVEu_"
      },
      "execution_count": null,
      "outputs": []
    },
    {
      "cell_type": "code",
      "source": [
        "#Задание 6. Коровы\n",
        "stalls = input(\"Введите статус 10 стойл (10 символов a/b): \")\n",
        "total_milk = 0\n",
        "\n",
        "for i in range(10):\n",
        "    for prod in range(2, 22, 2):\n",
        "        if i == prod // 2 - 1:\n",
        "            if stalls[i] == 'b':\n",
        "                total_milk += prod\n",
        "\n",
        "print(\"Всего произведено молока:\", total_milk, \"литров\")"
      ],
      "metadata": {
        "id": "zja4qqGRCfQh"
      },
      "execution_count": null,
      "outputs": []
    },
    {
      "cell_type": "code",
      "source": [
        "stalls = input(\"Введите статус стойл (символы a-пустое, b-занято): \")\n",
        "total_milk = 0\n",
        "prod = 2\n",
        "\n",
        "for char in stalls:\n",
        "    if char == 'b':\n",
        "        total_milk += prod                                                                    # ничего не делаем для 'a' пропускаем\n",
        "    prod += 2\n",
        "\n",
        "print(\"Всего произведено молока:\", total_milk, \"литров\")"
      ],
      "metadata": {
        "colab": {
          "base_uri": "https://localhost:8080/"
        },
        "id": "cRmb2P1RFWbO",
        "outputId": "3655a152-f1ec-41c4-f70a-7943565c1dbb"
      },
      "execution_count": null,
      "outputs": [
        {
          "output_type": "stream",
          "name": "stdout",
          "text": [
            "Введите статус стойл (символы a-пустое, b-занято): фывbb\n",
            "Всего произведено молока: 18 литров\n"
          ]
        }
      ]
    },
    {
      "cell_type": "code",
      "source": [
        "#Задание 7. Метод бутерброда\n",
        "\n",
        "encrypted = input(\"Введите зашифрованное сообщение: \")\n",
        "\n",
        "result = [''] * len(encrypted)                                                  # пустые позиции в списке * длину строки\n",
        "left = 0                                                                        # левый указатель\n",
        "right = len(encrypted) - 1                                                      # правый указатель (индекс последнего символа)\n",
        "\n",
        "for i, char in enumerate(encrypted):                                            # i=1, char='h' (нечётный индекс)\n",
        "    if i % 2 == 0:                                                              # i=2, char='a' (чётный индекс)\n",
        "        result[left] = char\n",
        "        left += 1\n",
        "    else:\n",
        "        result[right] = char\n",
        "        right -= 1\n",
        "#join() — это строковый метод, который создаёт новую строку путём конкатенации всех элементов итерируемого объекта\n",
        "print(\"Расшифрованное сообщение: \", ''.join(result)) #'' - пустая строка как разделитель, значит элементы склеиваются вплотную."
      ],
      "metadata": {
        "colab": {
          "base_uri": "https://localhost:8080/"
        },
        "id": "oQz2gkBc45d3",
        "outputId": "66c16df3-05a4-43be-9934-4ae39409cf22"
      },
      "execution_count": null,
      "outputs": [
        {
          "output_type": "stream",
          "name": "stdout",
          "text": [
            "Введите зашифрованное сообщение: shacnidw\n",
            "Расшифрованное сообщение:  sandwich\n"
          ]
        }
      ]
    },
    {
      "cell_type": "code",
      "source": [
        "# Задание 8. Древний палиндром\n",
        "\n",
        "text = input(\"Введите фрагмент послания: \")\n",
        "\n",
        "cleaned_text = text.replace(\" \", \"\").lower()                                    # очищаем текст, удаляем пробелы, и делаем все буквы маленькими\n",
        "                                                                                # это нужно, чтобы фразы и строки считались палиндромами\n",
        "print(\"Очищенный текст: \", cleaned_text)\n",
        "\n",
        "reversed_text = \"\"                                                              # Создаем перевернутую версию текста\n",
        "for character in cleaned_text:                                                  # добавляем каждый новый символ в нвчало строки\n",
        "    reversed_text = character + reversed_text                                   # Ээто создает обратную последовательность\n",
        "\n",
        "print(\"Перевернутый текст: \", reversed_text)\n",
        "\n",
        "if cleaned_text == reversed_text:                                               # Сравниваем очищенный текст с его перевернутой версией\n",
        "    print(\"Да, это палиндром!\")\n",
        "else:\n",
        "    print(\"Нет, это не палиндром!\")"
      ],
      "metadata": {
        "colab": {
          "base_uri": "https://localhost:8080/"
        },
        "id": "oDgmNCqQ8vFf",
        "outputId": "b4ea7402-f801-4757-e496-8df70e60ec32"
      },
      "execution_count": null,
      "outputs": [
        {
          "output_type": "stream",
          "name": "stdout",
          "text": [
            "Введите фрагмент послания: Madam\n",
            "Очищенный текст:  madam\n",
            "Перевернутый текст:  madam\n",
            "Да, это палиндром!\n"
          ]
        }
      ]
    }
  ]
}