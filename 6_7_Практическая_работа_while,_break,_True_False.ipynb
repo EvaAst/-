{
  "nbformat": 4,
  "nbformat_minor": 0,
  "metadata": {
    "colab": {
      "provenance": [],
      "authorship_tag": "ABX9TyOz0dp2Nx//DKmT79vO8l/i",
      "include_colab_link": true
    },
    "kernelspec": {
      "name": "python3",
      "display_name": "Python 3"
    },
    "language_info": {
      "name": "python"
    }
  },
  "cells": [
    {
      "cell_type": "markdown",
      "metadata": {
        "id": "view-in-github",
        "colab_type": "text"
      },
      "source": [
        "<a href=\"https://colab.research.google.com/github/EvaAst/-/blob/main/6_7_%D0%9F%D1%80%D0%B0%D0%BA%D1%82%D0%B8%D1%87%D0%B5%D1%81%D0%BA%D0%B0%D1%8F_%D1%80%D0%B0%D0%B1%D0%BE%D1%82%D0%B0_while%2C_break%2C_True_False.ipynb\" target=\"_parent\"><img src=\"https://colab.research.google.com/assets/colab-badge.svg\" alt=\"Open In Colab\"/></a>"
      ]
    },
    {
      "cell_type": "code",
      "execution_count": 5,
      "metadata": {
        "colab": {
          "base_uri": "https://localhost:8080/"
        },
        "id": "4HOhJc34Gzvr",
        "outputId": "6b1f0c81-3e0a-420c-a139-6f1ec74090bc"
      },
      "outputs": [
        {
          "output_type": "stream",
          "name": "stdout",
          "text": [
            "Введите число N: 6\n",
            "Таблица кубов чисел:\n",
            "1 ³ =  1\n",
            "2 ³ =  8\n",
            "3 ³ =  27\n",
            "4 ³ =  64\n",
            "5 ³ =  125\n",
            "6 ³ =  216\n",
            "Расчет завершен!\n"
          ]
        }
      ],
      "source": [
        "#Задача 1. Кубы чисел\n",
        "\n",
        "n = int(input(\"Введите число N: \")) # Получаем максимальное число от Васи\n",
        "print(\"Таблица кубов чисел:\")\n",
        "number = 1\n",
        "\n",
        "while number <= n:                  # Цикл while выполняется пока число меньше или равно N\n",
        "    cube = number ** 3              # Вычисляем куб числа (третью степень)\n",
        "    print(number, \"³ = \", cube)\n",
        "    number += 1                     # Увеличиваем число на 1 для следующей итерации\n",
        "\n",
        "print(\"Расчет завершен!\")"
      ]
    },
    {
      "cell_type": "code",
      "source": [
        "#Задача 2. Коллекторы\n",
        "\n",
        "name = input(\"Введите имя: \")\n",
        "summ = int(input(\"Введите сумму долга: \"))\n",
        "\n",
        "while summ != 0:\n",
        "\n",
        "  print(name, \", Ваша задолженность составляет: \", summ, \"рублей\")\n",
        "\n",
        "  bill = int(input(\"Сколько рублей Вы внесёте прямо сейчас, чтобы её погасить?  \"))\n",
        "  summ = summ - bill\n",
        "\n",
        "  if  summ != 0:\n",
        "        print(\"Маловато,\", name, \", Давайте ещё раз.\")   # Если долг НЕ погашен полностью\n",
        "  else:\n",
        "\n",
        "        print(\"Отлично,\", name, \", Вы погасили долг. Спасибо!\") # Если долг погашен полностью"
      ],
      "metadata": {
        "colab": {
          "base_uri": "https://localhost:8080/"
        },
        "id": "8y4RnHjbKWAu",
        "outputId": "1dcac73a-3241-45db-a852-dc80e2977267"
      },
      "execution_count": 27,
      "outputs": [
        {
          "output_type": "stream",
          "name": "stdout",
          "text": [
            "Введите имя: Мария\n",
            "Введите сумму долга: 10000\n",
            "Мария , Ваша задолженность составляет:  10000 рублей\n",
            "Сколько рублей Вы внесёте прямо сейчас, чтобы её погасить?  5000\n",
            "Маловато, Мария , Давайте ещё раз.\n",
            "Мария , Ваша задолженность составляет:  5000 рублей\n",
            "Сколько рублей Вы внесёте прямо сейчас, чтобы её погасить?  3000\n",
            "Маловато, Мария , Давайте ещё раз.\n",
            "Мария , Ваша задолженность составляет:  2000 рублей\n",
            "Сколько рублей Вы внесёте прямо сейчас, чтобы её погасить?  2000\n",
            "Отлично, Мария , Вы погасили долг. Спасибо!\n"
          ]
        }
      ]
    },
    {
      "cell_type": "code",
      "source": [
        "# Задача 3. Слишком большие числа\n",
        "number = int(input(\"Введите число: \"))\n",
        "count = 0\n",
        "if number == 0:                       # Если число равно 0 - сразу возвращаем 1 цифру\n",
        "    print(\"Число 0 имеет 1 цифру\")\n",
        "else:\n",
        "    temp = number                     # Создаем копию number для обработки в цикле\n",
        "\n",
        "    while temp > 0:                   # считаем делением на 10 каждую итерацию, пока temp больше 0\n",
        "        count += 1\n",
        "        temp = temp // 10\n",
        "\n",
        "    print(\"Число\", number, \"имеет\", count, \"цифр\")"
      ],
      "metadata": {
        "colab": {
          "base_uri": "https://localhost:8080/"
        },
        "id": "SORCk2vYSsoD",
        "outputId": "cb9eb5d7-7883-4923-fa3a-f6f0bcbdc3cc"
      },
      "execution_count": 50,
      "outputs": [
        {
          "output_type": "stream",
          "name": "stdout",
          "text": [
            "Введите число: 1234556788900\n",
            "Число 1234556788900 имеет 13 цифр\n"
          ]
        }
      ]
    },
    {
      "cell_type": "code",
      "source": [
        "#Задача 4. Поставьте оценку!\n",
        "\n",
        "count_negativ = 0\n",
        "count_positiv = 0\n",
        "while True:\n",
        "    rating = int(input(\"Введите число: \"))\n",
        "    if rating == 0:\n",
        "      break\n",
        "    if rating < 0:\n",
        "      count_negativ += 1\n",
        "    elif rating > 0:\n",
        "      count_positiv +=1\n",
        "\n",
        "print(\"Кол-во положительных чисел: \", count_positiv)\n",
        "print(\"Кол-во отрицательных чисел: \", count_negativ)"
      ],
      "metadata": {
        "colab": {
          "base_uri": "https://localhost:8080/"
        },
        "id": "36RJNm8HRXPB",
        "outputId": "9429dcf3-4cf5-4cab-a23a-7be4de6c8121"
      },
      "execution_count": 57,
      "outputs": [
        {
          "output_type": "stream",
          "name": "stdout",
          "text": [
            "Введите число: -9\n",
            "Введите число: -8\n",
            "Введите число: 6\n",
            "Введите число: 5\n",
            "Введите число: 4\n",
            "Введите число: 3\n",
            "Введите число: 0\n",
            "Кол-во положительных чисел:  4\n",
            "Кол-во отрицательных чисел:  2\n"
          ]
        }
      ]
    },
    {
      "cell_type": "code",
      "source": [
        "# Задача 5. Обычный день на работе\n",
        "\n",
        "print(\"Начался восьмичасовой рабочий день.\")\n",
        "\n",
        "tasks_total = 0     # задачи Максима\n",
        "wife_called = False # звонок жены, не считается пока Максим не возьмет трубку\n",
        "hour = 1\n",
        "\n",
        "while hour <= 8:\n",
        "    print(hour, \"-й час\")\n",
        "    tasks = int(input(\"Сколько задач решит Максим? \"))\n",
        "    call = int(input(\"Звонит жена. Взять трубку? (1 — да, 0 — нет): \"))\n",
        "\n",
        "    tasks_total += tasks\n",
        "    if call == 1:           # при вводе \"1\", Максим берет трубку\n",
        "        wife_called = True  # засчитывается звонок жены\n",
        "\n",
        "    print()                 # для разделения строк\n",
        "    hour += 1               # счетчик часа\n",
        "\n",
        "print(\"Рабочий день закончился. Всего выполнено задач:\", tasks_total)\n",
        "if wife_called:             # если жена звонила, то нужно зайти в магазин\n",
        "    print(\"Нужно зайти в магазин.\")"
      ],
      "metadata": {
        "colab": {
          "base_uri": "https://localhost:8080/"
        },
        "id": "LPKPNKRF2PEz",
        "outputId": "42000bd8-0c14-4d5a-edaa-eed6fe372826"
      },
      "execution_count": 60,
      "outputs": [
        {
          "output_type": "stream",
          "name": "stdout",
          "text": [
            "Начался восьмичасовой рабочий день.\n",
            "1 -й час\n",
            "Сколько задач решит Максим? 9\n",
            "Звонит жена. Взять трубку? (1 — да, 0 — нет): 0\n",
            "\n",
            "2 -й час\n",
            "Сколько задач решит Максим? 8\n",
            "Звонит жена. Взять трубку? (1 — да, 0 — нет): 0\n",
            "\n",
            "3 -й час\n",
            "Сколько задач решит Максим? 7\n",
            "Звонит жена. Взять трубку? (1 — да, 0 — нет): 0\n",
            "\n",
            "4 -й час\n",
            "Сколько задач решит Максим? 6\n",
            "Звонит жена. Взять трубку? (1 — да, 0 — нет): 0\n",
            "\n",
            "5 -й час\n",
            "Сколько задач решит Максим? 5\n",
            "Звонит жена. Взять трубку? (1 — да, 0 — нет): 0\n",
            "\n",
            "6 -й час\n",
            "Сколько задач решит Максим? 4\n",
            "Звонит жена. Взять трубку? (1 — да, 0 — нет): 0\n",
            "\n",
            "7 -й час\n",
            "Сколько задач решит Максим? 3\n",
            "Звонит жена. Взять трубку? (1 — да, 0 — нет): 0\n",
            "\n",
            "8 -й час\n",
            "Сколько задач решит Максим? 2\n",
            "Звонит жена. Взять трубку? (1 — да, 0 — нет): 1\n",
            "\n",
            "Рабочий день закончился. Всего выполнено задач: 44\n",
            "Нужно зайти в магазин.\n"
          ]
        }
      ]
    }
  ]
}