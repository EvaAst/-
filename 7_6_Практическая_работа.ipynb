{
  "nbformat": 4,
  "nbformat_minor": 0,
  "metadata": {
    "colab": {
      "provenance": [],
      "authorship_tag": "ABX9TyOu3DouSvQrMHjpMSkcYpco",
      "include_colab_link": true
    },
    "kernelspec": {
      "name": "python3",
      "display_name": "Python 3"
    },
    "language_info": {
      "name": "python"
    }
  },
  "cells": [
    {
      "cell_type": "markdown",
      "metadata": {
        "id": "view-in-github",
        "colab_type": "text"
      },
      "source": [
        "<a href=\"https://colab.research.google.com/github/EvaAst/-/blob/main/7_6_%D0%9F%D1%80%D0%B0%D0%BA%D1%82%D0%B8%D1%87%D0%B5%D1%81%D0%BA%D0%B0%D1%8F_%D1%80%D0%B0%D0%B1%D0%BE%D1%82%D0%B0.ipynb\" target=\"_parent\"><img src=\"https://colab.research.google.com/assets/colab-badge.svg\" alt=\"Open In Colab\"/></a>"
      ]
    },
    {
      "cell_type": "code",
      "execution_count": null,
      "metadata": {
        "colab": {
          "base_uri": "https://localhost:8080/"
        },
        "id": "Dj4OTYuG2DXP",
        "outputId": "505d05c4-0a45-4427-a047-644a73d116f9"
      },
      "outputs": [
        {
          "output_type": "stream",
          "name": "stdout",
          "text": [
            "Введите 10 чисел:\n",
            "Число i: 1\n",
            "Число i: 2\n",
            "Число i: 3\n",
            "Число i: 4\n",
            "Число i: 5\n",
            "Число i: 6\n",
            "Число i: 7\n",
            "Число i: 8\n",
            "Число i: 9\n",
            "Число i: -9\n",
            "Количество четных и положительных чисел:  4\n"
          ]
        }
      ],
      "source": [
        "#Задача 1. Должники\n",
        "\n",
        "count = 0\n",
        "print(\"Введите 10 чисел:\")\n",
        "for i in range(1, 11):                                                         # Обрабатываем 10 чисел\n",
        "    num = int(input(\"Число i: \"))\n",
        "    if num > 0 and num % 2 == 0:                                               # Проверяем, является ли число четным и положительным\n",
        "        count += 1\n",
        "\n",
        "print(\"Количество четных и положительных чисел: \", count)"
      ]
    },
    {
      "cell_type": "code",
      "source": [
        "#Задача 2. Посчитай чужую зарплату.\n",
        "\n",
        "print(\"Расчет среднегодовой зарплаты сотрудника\")\n",
        "total_salary = 0\n",
        "\n",
        "for month in range(1, 13):                                                     # Используем цикл for для 12 месяцев\n",
        "    salary = int(input(\"Введите зарплату за \" + str(month) + \"-й месяц: \"))    # Запрашиваем зарплату для каждого месяца\n",
        "    total_salary += salary                                                     # Добавляем к общей сумме\n",
        "average_salary = total_salary / 12                                             # Вычисляем среднюю зарплату\n",
        "print(\"Средняя годовая зарплата сотрудника составляет: \", average_salary, \"рублей\")"
      ],
      "metadata": {
        "colab": {
          "base_uri": "https://localhost:8080/"
        },
        "id": "c6U8yN7f4FGF",
        "outputId": "94dd92fb-f6ca-4785-d93b-31bd41fff2e6"
      },
      "execution_count": null,
      "outputs": [
        {
          "output_type": "stream",
          "name": "stdout",
          "text": [
            "Расчет среднегодовой зарплаты сотрудника\n",
            "Введите зарплату за 1-й месяц: 1000\n",
            "Введите зарплату за 2-й месяц: 900\n",
            "Введите зарплату за 3-й месяц: 800\n",
            "Введите зарплату за 4-й месяц: 1000\n",
            "Введите зарплату за 5-й месяц: 900\n",
            "Введите зарплату за 6-й месяц: 900\n",
            "Введите зарплату за 7-й месяц: 800\n",
            "Введите зарплату за 8-й месяц: 900\n",
            "Введите зарплату за 9-й месяц: 900\n",
            "Введите зарплату за 10-й месяц: 800\n",
            "Введите зарплату за 11-й месяц: 900\n",
            "Введите зарплату за 12-й месяц: 900\n",
            "Средняя годовая зарплата сотрудника составляет:  891.6666666666666 рублей\n"
          ]
        }
      ]
    },
    {
      "cell_type": "code",
      "source": [
        "#Задача 3. Факториал\n",
        "\n",
        "n = int(input(\"Введите натуральное число: \"))\n",
        "if n < 0:                                                                      # Проверяем, что число натуральное (неотрицательное)\n",
        "    print(\"Факториал определен только для натуральных чисел!\")\n",
        "else:\n",
        "    factorial = 1                                                              # создаем переменную для хранения факториала\n",
        "    for i in range(1, n + 1):                                                  # Вычисляем факториал с помощью цикла for\n",
        "        factorial *= i\n",
        "    print(\"Факториал числа\", n, \"равен:\", factorial)"
      ],
      "metadata": {
        "colab": {
          "base_uri": "https://localhost:8080/"
        },
        "id": "wYlrnS-3V6TD",
        "outputId": "aacb4d52-173c-458b-9a29-89b3531170e4"
      },
      "execution_count": null,
      "outputs": [
        {
          "output_type": "stream",
          "name": "stdout",
          "text": [
            "Введите натуральное число: 27\n",
            "Факториал числа 27 равен: 10888869450418352160768000000\n"
          ]
        }
      ]
    },
    {
      "cell_type": "code",
      "source": [
        "#Задача 4. Успеваемость в классе\n",
        "\n",
        "n = int(input(\"Введите количество учеников в классе: \"))\n",
        "\n",
        "excellent = 0  # отличники (5)\n",
        "good = 0       # хорошисты (4)\n",
        "satisfactory = 0  # троечники (3)\n",
        "print(\"Введите оценки учеников (3, 4 или 5):\")                                 # Получаем оценки каждого ученика\n",
        "for i in range(n):\n",
        "    grade = int(input(\"Оценка\"+str(i+1)+\"-го ученика: \"))\n",
        "    if grade == 5:                                                             # Проверяем оценку и увеличиваем соответствующий счетчик\n",
        "        excellent += 1\n",
        "    elif grade == 4:\n",
        "        good += 1\n",
        "    elif grade == 3:\n",
        "        satisfactory += 1\n",
        "    else:\n",
        "        print(\"Ошибка! Оценка должна быть 3, 4 или 5. Попробуйте снова.\")\n",
        "        i -= 1                                                                 # Повторяем ввод для этого ученика\n",
        "\n",
        "if excellent > good and excellent > satisfactory:                              # Определяем, кого больше\n",
        "    print(\"Сегодня больше отличников!\")\n",
        "elif good > excellent and good > satisfactory:\n",
        "    print(\"Сегодня больше хорошистов!\")\n",
        "elif satisfactory > excellent and satisfactory > good:\n",
        "    print(\"Сегодня больше троечников!\")\n",
        "else:\n",
        "    print(\"Количество отличников, хорошистов и троечников одинаково!\")"
      ],
      "metadata": {
        "colab": {
          "base_uri": "https://localhost:8080/"
        },
        "id": "p47wu4KBTMaD",
        "outputId": "69696423-da72-4785-d1bc-2e5cb603e631"
      },
      "execution_count": null,
      "outputs": [
        {
          "output_type": "stream",
          "name": "stdout",
          "text": [
            "Введите количество учеников в классе: 4\n",
            "Введите оценки учеников (3, 4 или 5):\n",
            "Оценка1-го ученика: 3\n",
            "Оценка2-го ученика: 4\n",
            "Оценка3-го ученика: 5\n",
            "Оценка4-го ученика: 5\n",
            "Сегодня больше отличников!\n"
          ]
        }
      ]
    },
    {
      "cell_type": "code",
      "source": [
        "#Задача 5. Отрезок\n",
        "\n",
        "a = int(input(\"Введите число a: \"))\n",
        "b = int(input(\"Введите число b: \"))\n",
        "\n",
        "sum_numbers = 0\n",
        "count = 0\n",
        "\n",
        "for number in range(a, b + 1):                                                # Проходим по всем числам от a до b включительно\n",
        "    if number % 3 == 0:                                                       # Проверяем, кратно ли число 3\n",
        "        sum_numbers += number\n",
        "        count += 1\n",
        "if count > 0:                                                                 # Вычисляем среднее арифметическое\n",
        "    average = sum_numbers / count\n",
        "    print(\"Среднее арифметическое чисел из отрезка\", a , \"и\", b , \"кратных 3, равно: \", average)\n",
        "else:\n",
        "    print(\"На отрезке\", a , \"и\", b , \"нет чисел, кратных 3.\")"
      ],
      "metadata": {
        "colab": {
          "base_uri": "https://localhost:8080/"
        },
        "id": "54_lZ4o5Zx2d",
        "outputId": "f676430f-35c3-47d9-eb48-956857f53871"
      },
      "execution_count": null,
      "outputs": [
        {
          "output_type": "stream",
          "name": "stdout",
          "text": [
            "Введите число a: 13\n",
            "Введите число b: 23\n",
            "Среднее арифметическое чисел из отрезка 13 и 23 кратных 3, равно:  18.0\n"
          ]
        }
      ]
    },
    {
      "cell_type": "code",
      "source": [
        "#Задача 6. Замечательные числа\n",
        "\n",
        "print(\"Двузначные числа, равные утроенному произведению своих цифр:\")\n",
        "\n",
        "for number in range(10, 100):                                                  # Перебираем все двузначные числа от 10 до 99\n",
        "    first_digit = number // 10  # первая цифра                                 # Получаем цифры числа\n",
        "    second_digit = number % 10   # вторая цифра\n",
        "    triple_product = 3 * first_digit * second_digit                            # Вычисляем утроенное произведение цифр\n",
        "    if number == triple_product:                                               # Проверяем, равно ли число утроенному произведению своих цифр\n",
        "        print(number, \"=\", \"3 *\", first_digit, \"*\", second_digit)"
      ],
      "metadata": {
        "colab": {
          "base_uri": "https://localhost:8080/"
        },
        "id": "8VEPFb3seJMK",
        "outputId": "f48dc3b0-e677-40c7-e489-4b37d1952b82"
      },
      "execution_count": null,
      "outputs": [
        {
          "output_type": "stream",
          "name": "stdout",
          "text": [
            "Двузначные числа, равные утроенному произведению своих цифр:\n",
            "15 = 3 * 1 * 5\n",
            "24 = 3 * 2 * 4\n"
          ]
        }
      ]
    },
    {
      "cell_type": "code",
      "source": [
        "#Задача 7. Пропавшая карточка\n",
        "\n",
        "n = int(input(\"Введите количество карточек: \"))\n",
        "total_sum = n * (n + 1) // 2                                                   # Вычисляем сумму всех номеров от 1 до N\n",
        "remaining_sum = 0\n",
        "                                                                               # сумма оставшихся карточек\n",
        "for i in range(n - 1):                                                         # Вводим номера оставшихся карточек\n",
        "    card = int(input(\"Введите номер оставшейся карточки: \"))\n",
        "    remaining_sum += card\n",
        "\n",
        "missing_card = total_sum - remaining_sum                                       # Находим номер пропавшей карточки\n",
        "\n",
        "print(\"Номер пропавшей карточки:\", missing_card)"
      ],
      "metadata": {
        "colab": {
          "base_uri": "https://localhost:8080/"
        },
        "id": "LBa27UzXgOBz",
        "outputId": "51108af3-495e-482d-cb65-148c42b96d81"
      },
      "execution_count": null,
      "outputs": [
        {
          "output_type": "stream",
          "name": "stdout",
          "text": [
            "Введите количество карточек: 5\n",
            "Введите номер оставшейся карточки: 3\n",
            "Введите номер оставшейся карточки: 5\n",
            "Введите номер оставшейся карточки: 4\n",
            "Введите номер оставшейся карточки: 2\n",
            "Номер пропавшей карточки: 1\n"
          ]
        }
      ]
    }
  ]
}